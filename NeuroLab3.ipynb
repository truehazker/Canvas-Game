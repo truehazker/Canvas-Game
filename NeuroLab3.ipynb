{
  "nbformat": 4,
  "nbformat_minor": 0,
  "metadata": {
    "accelerator": "TPU",
    "colab": {
      "name": "Gizatullin_NN3",
      "provenance": [],
      "collapsed_sections": []
    },
    "kernelspec": {
      "display_name": "Python 3",
      "name": "python3"
    },
    "language_info": {
      "name": "python"
    }
  },
  "cells": [
    {
      "cell_type": "code",
      "metadata": {
        "id": "dHUGJxP3RShG"
      },
      "source": [
        "import os\n",
        "import torch\n",
        "import torch.nn as nn\n",
        "from torch.utils.data import (Dataset, DataLoader, TensorDataset)\n",
        "import torchvision.transforms as transforms\n",
        "import pandas as pd\n",
        "from skimage import io\n",
        "import matplotlib as mpl\n",
        "import matplotlib.pyplot as plt\n",
        "from tqdm import tqdm\n",
        "import matplotlib.pyplot as plt"
      ],
      "execution_count": null,
      "outputs": []
    },
    {
      "cell_type": "code",
      "source": [
        ""
      ],
      "metadata": {
        "id": "hcrhAELPQkrY"
      },
      "execution_count": null,
      "outputs": []
    },
    {
      "cell_type": "markdown",
      "source": [
        "Подгружаю данные и разбиваю на тестовую и тренировочную выборки"
      ],
      "metadata": {
        "id": "4czfzZQAI91s"
      }
    },
    {
      "cell_type": "code",
      "source": [
        "from sklearn.datasets import load_digits\n",
        "from sklearn.model_selection import train_test_split\n",
        "digits = load_digits()\n",
        "n_samples = len(digits.images)\n",
        "data = digits.images.reshape((n_samples, -1))\n",
        "y = digits.target\n",
        "x = digits.target"
      ],
      "metadata": {
        "id": "3bDwDxGKgCQV"
      },
      "execution_count": null,
      "outputs": []
    },
    {
      "cell_type": "code",
      "metadata": {
        "id": "LbAeEPTvSDrp"
      },
      "source": [
        "X_train, X_test, y_train, y_test = train_test_split(\n",
        "    data, y, test_size=0.5, shuffle=False\n",
        ")"
      ],
      "execution_count": null,
      "outputs": []
    },
    {
      "cell_type": "markdown",
      "source": [
        "Изображения 8x8, числами от 0 до 16 обозначены цвета (0 - чёрные, 16 - белый, остальные - оттенки серого)"
      ],
      "metadata": {
        "id": "SdIA3WeFJANY"
      }
    },
    {
      "cell_type": "code",
      "metadata": {
        "id": "oGrfrV0c0u6A",
        "colab": {
          "base_uri": "https://localhost:8080/"
        },
        "outputId": "19ef3e15-d0c1-40b3-f65b-4e371b652ae8"
      },
      "source": [
        "X_train[0]"
      ],
      "execution_count": null,
      "outputs": [
        {
          "output_type": "execute_result",
          "data": {
            "text/plain": [
              "array([ 0.,  0.,  5., 13.,  9.,  1.,  0.,  0.,  0.,  0., 13., 15., 10.,\n",
              "       15.,  5.,  0.,  0.,  3., 15.,  2.,  0., 11.,  8.,  0.,  0.,  4.,\n",
              "       12.,  0.,  0.,  8.,  8.,  0.,  0.,  5.,  8.,  0.,  0.,  9.,  8.,\n",
              "        0.,  0.,  4., 11.,  0.,  1., 12.,  7.,  0.,  0.,  2., 14.,  5.,\n",
              "       10., 12.,  0.,  0.,  0.,  0.,  6., 13., 10.,  0.,  0.,  0.])"
            ]
          },
          "metadata": {},
          "execution_count": 135
        }
      ]
    },
    {
      "cell_type": "code",
      "source": [
        "def draw_digit(features):\n",
        "    plt.imshow(features.reshape(8, 8), cmap=plt.cm.gray, vmax=16, interpolation='nearest')\n",
        "draw_digit(X_train[0])"
      ],
      "metadata": {
        "id": "4WE8nkW-WHFh",
        "colab": {
          "base_uri": "https://localhost:8080/",
          "height": 265
        },
        "outputId": "85ce5919-a2d8-47da-c7fe-fb8c4e2e063c"
      },
      "execution_count": null,
      "outputs": [
        {
          "output_type": "display_data",
          "data": {
            "image/png": "[encoded data removed]",
            "text/plain": [
              "<Figure size 432x288 with 1 Axes>"
            ]
          },
          "metadata": {
            "needs_background": "light"
          }
        }
      ]
    },
    {
      "cell_type": "code",
      "source": [
        ""
      ],
      "metadata": {
        "id": "yQw-Fm1qKTn4"
      },
      "execution_count": null,
      "outputs": []
    },
    {
      "cell_type": "markdown",
      "source": [
        "Опишем модель, оптимизатор и функцию потерь"
      ],
      "metadata": {
        "id": "WaL0xL8AJRb8"
      }
    },
    {
      "cell_type": "code",
      "metadata": {
        "id": "yukXzQzxjg77"
      },
      "source": [
        "input_dim = 8\n",
        "sequence_length = 8\n",
        "hidden_dim = 64\n",
        "num_layers = 2\n",
        "num_classes = 10\n",
        "learning_rate = 0.005\n",
        "batch_size = 100\n",
        "num_epochs = 166\n",
        "train = TensorDataset(torch.from_numpy(X_train), torch.from_numpy(y_train))\n",
        "test = TensorDataset(torch.from_numpy(X_test), torch.from_numpy(y_test))\n",
        "train_loader = torch.utils.data.DataLoader(dataset=train, batch_size=batch_size,shuffle=True)\n",
        "test_loader = torch.utils.data.DataLoader(dataset=test, batch_size=batch_size, shuffle=False)"
      ],
      "execution_count": null,
      "outputs": []
    },
    {
      "cell_type": "code",
      "metadata": {
        "id": "tM4O0gdgs_5L"
      },
      "source": [
        "class RNN(nn.Module):\n",
        "    def __init__(self, input_dim, hidden_dim, num_layers, num_classes):\n",
        "        super(RNN, self).__init__()\n",
        "        self.hidden_dim = hidden_dim\n",
        "        self.num_layers = num_layers\n",
        "        self.rnn = nn.RNN(input_dim, hidden_dim, num_layers, batch_first=True)\n",
        "        self.fc = nn.Linear(hidden_dim * sequence_length, num_classes)\n",
        "\n",
        "    def forward(self, x):\n",
        "        h0 = torch.zeros(self.num_layers, x.size(0), self.hidden_dim)\n",
        "        out, _ = self.rnn(x, h0)\n",
        "        out = out.reshape(out.shape[0], -1)\n",
        "        out = self.fc(out)\n",
        "        return out"
      ],
      "execution_count": null,
      "outputs": []
    },
    {
      "cell_type": "code",
      "metadata": {
        "id": "XuRrh9bRtIdL"
      },
      "source": [
        "model = RNN(input_dim, hidden_dim, num_layers, num_classes)\n",
        "optimizer = torch.optim.Adam(model.parameters(), lr=learning_rate) # оптимизатор\n",
        "criterion = nn.CrossEntropyLoss()"
      ],
      "execution_count": null,
      "outputs": []
    },
    {
      "cell_type": "markdown",
      "source": [
        "Обучим нейронную сеть:"
      ],
      "metadata": {
        "id": "3D6JAn05UgVs"
      }
    },
    {
      "cell_type": "code",
      "metadata": {
        "colab": {
          "base_uri": "https://localhost:8080/"
        },
        "id": "-UOV0jdItR18",
        "outputId": "72a78a95-8541-46a5-fc18-e07668730c77"
      },
      "source": [
        "for epoch in range(num_epochs):\n",
        "    for batch_idx, (img, num) in enumerate(tqdm(train_loader)):\n",
        "        img = img.view(-1, 8, 8)\n",
        "        scores = model(img.float())\n",
        "        loss = criterion(scores, num)\n",
        "        optimizer.zero_grad()\n",
        "        loss.backward()\n",
        "        optimizer.step()"
      ],
      "execution_count": null,
      "outputs": [
        {
          "output_type": "stream",
          "name": "stderr",
          "text": [
            "100%|██████████| 9/9 [00:00<00:00, 148.87it/s]\n",
            "100%|██████████| 9/9 [00:00<00:00, 176.73it/s]\n",
            "100%|██████████| 9/9 [00:00<00:00, 167.22it/s]\n",
            "100%|██████████| 9/9 [00:00<00:00, 165.16it/s]\n",
            "100%|██████████| 9/9 [00:00<00:00, 173.29it/s]\n",
            "100%|██████████| 9/9 [00:00<00:00, 173.30it/s]\n",
            "100%|██████████| 9/9 [00:00<00:00, 175.74it/s]\n",
            "100%|██████████| 9/9 [00:00<00:00, 151.33it/s]\n",
            "100%|██████████| 9/9 [00:00<00:00, 162.84it/s]\n",
            "100%|██████████| 9/9 [00:00<00:00, 157.13it/s]\n",
            "100%|██████████| 9/9 [00:00<00:00, 162.03it/s]\n",
            "100%|██████████| 9/9 [00:00<00:00, 176.41it/s]\n",
            "100%|██████████| 9/9 [00:00<00:00, 141.31it/s]\n",
            "100%|██████████| 9/9 [00:00<00:00, 133.80it/s]\n",
            "100%|██████████| 9/9 [00:00<00:00, 180.65it/s]\n",
            "100%|██████████| 9/9 [00:00<00:00, 173.09it/s]\n",
            "100%|██████████| 9/9 [00:00<00:00, 147.32it/s]\n",
            "100%|██████████| 9/9 [00:00<00:00, 182.64it/s]\n",
            "100%|██████████| 9/9 [00:00<00:00, 164.66it/s]\n",
            "100%|██████████| 9/9 [00:00<00:00, 173.30it/s]\n",
            "100%|██████████| 9/9 [00:00<00:00, 165.82it/s]\n",
            "100%|██████████| 9/9 [00:00<00:00, 192.03it/s]\n",
            "100%|██████████| 9/9 [00:00<00:00, 162.73it/s]\n",
            "100%|██████████| 9/9 [00:00<00:00, 160.54it/s]\n",
            "100%|██████████| 9/9 [00:00<00:00, 163.68it/s]\n",
            "100%|██████████| 9/9 [00:00<00:00, 165.03it/s]\n",
            "100%|██████████| 9/9 [00:00<00:00, 164.45it/s]\n",
            "100%|██████████| 9/9 [00:00<00:00, 158.03it/s]\n",
            "100%|██████████| 9/9 [00:00<00:00, 175.70it/s]\n",
            "100%|██████████| 9/9 [00:00<00:00, 187.32it/s]\n",
            "100%|██████████| 9/9 [00:00<00:00, 189.15it/s]\n",
            "100%|██████████| 9/9 [00:00<00:00, 163.35it/s]\n",
            "100%|██████████| 9/9 [00:00<00:00, 168.21it/s]\n",
            "100%|██████████| 9/9 [00:00<00:00, 159.48it/s]\n",
            "100%|██████████| 9/9 [00:00<00:00, 172.96it/s]\n",
            "100%|██████████| 9/9 [00:00<00:00, 170.72it/s]\n",
            "100%|██████████| 9/9 [00:00<00:00, 183.11it/s]\n",
            "100%|██████████| 9/9 [00:00<00:00, 168.73it/s]\n",
            "100%|██████████| 9/9 [00:00<00:00, 169.01it/s]\n",
            "100%|██████████| 9/9 [00:00<00:00, 149.04it/s]\n",
            "100%|██████████| 9/9 [00:00<00:00, 148.13it/s]\n",
            "100%|██████████| 9/9 [00:00<00:00, 150.84it/s]\n",
            "100%|██████████| 9/9 [00:00<00:00, 143.03it/s]\n",
            "100%|██████████| 9/9 [00:00<00:00, 145.55it/s]\n",
            "100%|██████████| 9/9 [00:00<00:00, 150.84it/s]\n",
            "100%|██████████| 9/9 [00:00<00:00, 151.72it/s]\n",
            "100%|██████████| 9/9 [00:00<00:00, 156.41it/s]\n",
            "100%|██████████| 9/9 [00:00<00:00, 141.38it/s]\n",
            "100%|██████████| 9/9 [00:00<00:00, 136.25it/s]\n",
            "100%|██████████| 9/9 [00:00<00:00, 159.42it/s]\n",
            "100%|██████████| 9/9 [00:00<00:00, 171.09it/s]\n",
            "100%|██████████| 9/9 [00:00<00:00, 182.43it/s]\n",
            "100%|██████████| 9/9 [00:00<00:00, 155.82it/s]\n",
            "100%|██████████| 9/9 [00:00<00:00, 172.01it/s]\n",
            "100%|██████████| 9/9 [00:00<00:00, 173.19it/s]\n",
            "100%|██████████| 9/9 [00:00<00:00, 169.82it/s]\n",
            "100%|██████████| 9/9 [00:00<00:00, 175.36it/s]\n",
            "100%|██████████| 9/9 [00:00<00:00, 176.19it/s]\n",
            "100%|██████████| 9/9 [00:00<00:00, 197.95it/s]\n",
            "100%|██████████| 9/9 [00:00<00:00, 177.81it/s]\n",
            "100%|██████████| 9/9 [00:00<00:00, 170.65it/s]\n",
            "100%|██████████| 9/9 [00:00<00:00, 179.59it/s]\n",
            "100%|██████████| 9/9 [00:00<00:00, 174.10it/s]\n",
            "100%|██████████| 9/9 [00:00<00:00, 196.44it/s]\n",
            "100%|██████████| 9/9 [00:00<00:00, 172.30it/s]\n",
            "100%|██████████| 9/9 [00:00<00:00, 141.50it/s]\n",
            "100%|██████████| 9/9 [00:00<00:00, 148.28it/s]\n",
            "100%|██████████| 9/9 [00:00<00:00, 144.73it/s]\n",
            "100%|██████████| 9/9 [00:00<00:00, 144.04it/s]\n",
            "100%|██████████| 9/9 [00:00<00:00, 198.64it/s]\n",
            "100%|██████████| 9/9 [00:00<00:00, 196.92it/s]\n",
            "100%|██████████| 9/9 [00:00<00:00, 190.43it/s]\n",
            "100%|██████████| 9/9 [00:00<00:00, 183.23it/s]\n",
            "100%|██████████| 9/9 [00:00<00:00, 144.63it/s]\n",
            "100%|██████████| 9/9 [00:00<00:00, 174.51it/s]\n",
            "100%|██████████| 9/9 [00:00<00:00, 181.65it/s]\n",
            "100%|██████████| 9/9 [00:00<00:00, 192.42it/s]\n",
            "100%|██████████| 9/9 [00:00<00:00, 177.66it/s]\n",
            "100%|██████████| 9/9 [00:00<00:00, 182.71it/s]\n",
            "100%|██████████| 9/9 [00:00<00:00, 167.37it/s]\n",
            "100%|██████████| 9/9 [00:00<00:00, 176.98it/s]\n",
            "100%|██████████| 9/9 [00:00<00:00, 160.20it/s]\n",
            "100%|██████████| 9/9 [00:00<00:00, 168.35it/s]\n",
            "100%|██████████| 9/9 [00:00<00:00, 189.60it/s]\n",
            "100%|██████████| 9/9 [00:00<00:00, 170.79it/s]\n",
            "100%|██████████| 9/9 [00:00<00:00, 190.88it/s]\n",
            "100%|██████████| 9/9 [00:00<00:00, 179.53it/s]\n",
            "100%|██████████| 9/9 [00:00<00:00, 181.44it/s]\n",
            "100%|██████████| 9/9 [00:00<00:00, 164.04it/s]\n",
            "100%|██████████| 9/9 [00:00<00:00, 177.12it/s]\n",
            "100%|██████████| 9/9 [00:00<00:00, 182.83it/s]\n",
            "100%|██████████| 9/9 [00:00<00:00, 178.07it/s]\n",
            "100%|██████████| 9/9 [00:00<00:00, 157.87it/s]\n",
            "100%|██████████| 9/9 [00:00<00:00, 179.26it/s]\n",
            "100%|██████████| 9/9 [00:00<00:00, 180.85it/s]\n",
            "100%|██████████| 9/9 [00:00<00:00, 167.96it/s]\n",
            "100%|██████████| 9/9 [00:00<00:00, 187.53it/s]\n",
            "100%|██████████| 9/9 [00:00<00:00, 161.42it/s]\n",
            "100%|██████████| 9/9 [00:00<00:00, 163.31it/s]\n",
            "100%|██████████| 9/9 [00:00<00:00, 166.11it/s]\n",
            "100%|██████████| 9/9 [00:00<00:00, 179.15it/s]\n",
            "100%|██████████| 9/9 [00:00<00:00, 175.17it/s]\n",
            "100%|██████████| 9/9 [00:00<00:00, 195.02it/s]\n",
            "100%|██████████| 9/9 [00:00<00:00, 159.49it/s]\n",
            "100%|██████████| 9/9 [00:00<00:00, 164.92it/s]\n",
            "100%|██████████| 9/9 [00:00<00:00, 162.34it/s]\n",
            "100%|██████████| 9/9 [00:00<00:00, 183.19it/s]\n",
            "100%|██████████| 9/9 [00:00<00:00, 169.46it/s]\n",
            "100%|██████████| 9/9 [00:00<00:00, 169.28it/s]\n",
            "100%|██████████| 9/9 [00:00<00:00, 184.42it/s]\n",
            "100%|██████████| 9/9 [00:00<00:00, 170.92it/s]\n",
            "100%|██████████| 9/9 [00:00<00:00, 169.27it/s]\n",
            "100%|██████████| 9/9 [00:00<00:00, 177.45it/s]\n",
            "100%|██████████| 9/9 [00:00<00:00, 185.70it/s]\n",
            "100%|██████████| 9/9 [00:00<00:00, 183.80it/s]\n",
            "100%|██████████| 9/9 [00:00<00:00, 172.83it/s]\n",
            "100%|██████████| 9/9 [00:00<00:00, 164.21it/s]\n",
            "100%|██████████| 9/9 [00:00<00:00, 184.80it/s]\n",
            "100%|██████████| 9/9 [00:00<00:00, 173.95it/s]\n",
            "100%|██████████| 9/9 [00:00<00:00, 158.36it/s]\n",
            "100%|██████████| 9/9 [00:00<00:00, 152.13it/s]\n",
            "100%|██████████| 9/9 [00:00<00:00, 172.44it/s]\n",
            "100%|██████████| 9/9 [00:00<00:00, 174.26it/s]\n",
            "100%|██████████| 9/9 [00:00<00:00, 182.78it/s]\n",
            "100%|██████████| 9/9 [00:00<00:00, 169.97it/s]\n",
            "100%|██████████| 9/9 [00:00<00:00, 186.04it/s]\n",
            "100%|██████████| 9/9 [00:00<00:00, 176.54it/s]\n",
            "100%|██████████| 9/9 [00:00<00:00, 193.39it/s]\n",
            "100%|██████████| 9/9 [00:00<00:00, 167.89it/s]\n",
            "100%|██████████| 9/9 [00:00<00:00, 180.90it/s]\n",
            "100%|██████████| 9/9 [00:00<00:00, 171.58it/s]\n",
            "100%|██████████| 9/9 [00:00<00:00, 157.44it/s]\n",
            "100%|██████████| 9/9 [00:00<00:00, 156.82it/s]\n",
            "100%|██████████| 9/9 [00:00<00:00, 126.98it/s]\n",
            "100%|██████████| 9/9 [00:00<00:00, 150.06it/s]\n",
            "100%|██████████| 9/9 [00:00<00:00, 175.88it/s]\n",
            "100%|██████████| 9/9 [00:00<00:00, 177.93it/s]\n",
            "100%|██████████| 9/9 [00:00<00:00, 168.45it/s]\n",
            "100%|██████████| 9/9 [00:00<00:00, 155.04it/s]\n",
            "100%|██████████| 9/9 [00:00<00:00, 142.13it/s]\n",
            "100%|██████████| 9/9 [00:00<00:00, 170.99it/s]\n",
            "100%|██████████| 9/9 [00:00<00:00, 178.01it/s]\n",
            "100%|██████████| 9/9 [00:00<00:00, 163.54it/s]\n",
            "100%|██████████| 9/9 [00:00<00:00, 185.00it/s]\n",
            "100%|██████████| 9/9 [00:00<00:00, 188.47it/s]\n",
            "100%|██████████| 9/9 [00:00<00:00, 189.89it/s]\n",
            "100%|██████████| 9/9 [00:00<00:00, 183.24it/s]\n",
            "100%|██████████| 9/9 [00:00<00:00, 170.64it/s]\n",
            "100%|██████████| 9/9 [00:00<00:00, 171.50it/s]\n",
            "100%|██████████| 9/9 [00:00<00:00, 160.55it/s]\n",
            "100%|██████████| 9/9 [00:00<00:00, 149.97it/s]\n",
            "100%|██████████| 9/9 [00:00<00:00, 172.09it/s]\n",
            "100%|██████████| 9/9 [00:00<00:00, 193.68it/s]\n",
            "100%|██████████| 9/9 [00:00<00:00, 172.33it/s]\n",
            "100%|██████████| 9/9 [00:00<00:00, 181.68it/s]\n",
            "100%|██████████| 9/9 [00:00<00:00, 182.25it/s]\n",
            "100%|██████████| 9/9 [00:00<00:00, 183.37it/s]\n",
            "100%|██████████| 9/9 [00:00<00:00, 159.34it/s]\n",
            "100%|██████████| 9/9 [00:00<00:00, 178.00it/s]\n",
            "100%|██████████| 9/9 [00:00<00:00, 163.51it/s]\n",
            "100%|██████████| 9/9 [00:00<00:00, 184.14it/s]\n",
            "100%|██████████| 9/9 [00:00<00:00, 192.22it/s]\n",
            "100%|██████████| 9/9 [00:00<00:00, 187.15it/s]\n",
            "100%|██████████| 9/9 [00:00<00:00, 184.72it/s]\n",
            "100%|██████████| 9/9 [00:00<00:00, 175.99it/s]\n",
            "100%|██████████| 9/9 [00:00<00:00, 177.39it/s]\n"
          ]
        }
      ]
    },
    {
      "cell_type": "markdown",
      "source": [
        "Проверим долю правильных ответов:"
      ],
      "metadata": {
        "id": "ZF4TIc4eUkeN"
      }
    },
    {
      "cell_type": "code",
      "metadata": {
        "colab": {
          "base_uri": "https://localhost:8080/"
        },
        "id": "lveOwNtaEhqt",
        "outputId": "29c46598-9acc-49c5-b770-18fad7074312"
      },
      "source": [
        "def check_accuracy(loader, model):\n",
        "    num_correct = 0\n",
        "    num_samples = 0\n",
        "    model.eval()\n",
        "    with torch.no_grad():\n",
        "        for x, y in loader:\n",
        "            x = x.view(-1, 8, 8)\n",
        "            scores = model(x.float())\n",
        "            _, predictions = scores.max(1)\n",
        "            num_correct += (predictions == y).sum()\n",
        "            num_samples += predictions.size(0)\n",
        "    model.train()\n",
        "    return num_correct / num_samples\n",
        "print(f\"Accuracy on train: {check_accuracy(train_loader, model)}\")\n",
        "print(f\"Accuracy on test: {check_accuracy(test_loader, model)}\")"
      ],
      "execution_count": null,
      "outputs": [
        {
          "output_type": "stream",
          "name": "stdout",
          "text": [
            "Accuracy on train: 1.0\n",
            "Accuracy on test: 0.9488320350646973\n"
          ]
        }
      ]
    },
    {
      "cell_type": "markdown",
      "source": [
        "Доля правильных ответов на тесте $\\approx 0.95$"
      ],
      "metadata": {
        "id": "4NraPlPMUq6H"
      }
    },
    {
      "cell_type": "code",
      "source": [
        ""
      ],
      "metadata": {
        "id": "V9KXo8ijL3uC"
      },
      "execution_count": null,
      "outputs": []
    }
  ]
}